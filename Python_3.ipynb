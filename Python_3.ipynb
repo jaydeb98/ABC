{
 "cells": [
  {
   "cell_type": "code",
   "execution_count": 9,
   "id": "f95fdd8c",
   "metadata": {},
   "outputs": [
    {
     "name": "stdout",
     "output_type": "stream",
     "text": [
      "Current number is 1\n",
      "Current number is 2\n",
      "Current number is 3\n",
      "Current number is 4\n",
      "Reached 5, breaking out of the loop\n",
      "Current number is 1\n",
      "Current number is 2\n",
      "Current number is 3\n",
      "Current number is 4\n",
      "Skipping 5 using continue\n",
      "Current number is 6\n",
      "Current number is 7\n",
      "Current number is 8\n",
      "Current number is 9\n",
      "Current number is 10\n"
     ]
    }
   ],
   "source": [
    "# Using break to exit a loop\n",
    "for num in range(1, 11):\n",
    "    if num == 5:\n",
    "        print(\"Reached 5, breaking out of the loop\")\n",
    "        break\n",
    "    print(f\"Current number is {num}\")\n",
    "\n",
    "# Using continue to skip an iteration\n",
    "for num in range(1, 11):\n",
    "    if num == 5:\n",
    "        print(\"Skipping 5 using continue\")\n",
    "        continue\n",
    "    print(f\"Current number is {num}\")\n"
   ]
  },
  {
   "cell_type": "code",
   "execution_count": null,
   "id": "5adbf176",
   "metadata": {},
   "outputs": [],
   "source": []
  }
 ],
 "metadata": {
  "kernelspec": {
   "display_name": "Python 3 (ipykernel)",
   "language": "python",
   "name": "python3"
  },
  "language_info": {
   "codemirror_mode": {
    "name": "ipython",
    "version": 3
   },
   "file_extension": ".py",
   "mimetype": "text/x-python",
   "name": "python",
   "nbconvert_exporter": "python",
   "pygments_lexer": "ipython3",
   "version": "3.10.9"
  }
 },
 "nbformat": 4,
 "nbformat_minor": 5
}
